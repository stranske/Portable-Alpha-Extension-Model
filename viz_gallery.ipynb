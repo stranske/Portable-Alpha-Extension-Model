{
 "cells": [
  {
   "cell_type": "markdown",
   "id": "963d7bfb",
   "metadata": {},
   "source": [
    "# viz_gallery.ipynb\n",
    "This notebook demonstrates key plotting helpers from `pa_core.viz`.\n"
   ]
  },
  {
   "cell_type": "code",
   "execution_count": null,
   "id": "6be97074",
   "metadata": {},
   "outputs": [],
   "source": [
    "import pandas as pd\n",
    "from pa_core import viz"
   ]
  },
  {
   "cell_type": "code",
   "execution_count": null,
   "id": "f6594afc",
   "metadata": {},
   "outputs": [],
   "source": [
    "# example summary table\n",
    "df_summary = pd.DataFrame({\n",
    "    \"AnnReturn\": [0.05, 0.04],\n",
    "    \"AnnVol\": [0.02, 0.03],\n",
    "    \"TrackingErr\": [0.01, 0.015],\n",
    "    \"Agent\": [\"A\", \"B\"],\n",
    "    \"ShortfallProb\": [0.02, 0.03],\n",
    "})\n"
   ]
  },
  {
   "cell_type": "code",
   "execution_count": null,
   "id": "7440ff2a",
   "metadata": {},
   "outputs": [],
   "source": [
    "viz.risk_return.make(df_summary)"
   ]
  }
 ],
 "metadata": {},
 "nbformat": 4,
 "nbformat_minor": 5
}
