{
 "cells": [
  {
   "cell_type": "markdown",
   "id": "0",
   "metadata": {},
   "source": [
    "# viz_gallery.ipynb\n",
    "This notebook demonstrates key plotting helpers from `pa_core.viz`.\n"
   ]
  },
  {
   "cell_type": "code",
   "execution_count": null,
   "id": "1",
   "metadata": {},
   "outputs": [],
   "source": [
    "import pandas as pd\n",
    "from pa_core import viz"
   ]
  },
  {
   "cell_type": "code",
   "execution_count": null,
   "id": "2",
   "metadata": {},
   "outputs": [],
   "source": [
    "# example summary table\n",
    "df_summary = pd.DataFrame({\n",
    "    \"AnnReturn\": [0.05, 0.04],\n",
    "    \"AnnVol\": [0.02, 0.03],\n",
    "    \"TrackingErr\": [0.01, 0.015],\n",
    "    \"Agent\": [\"A\", \"B\"],\n",
    "    \"ShortfallProb\": [0.02, 0.03],\n",
    "})\n"
   ]
  },
  {
   "cell_type": "code",
   "execution_count": null,
   "id": "cd4a0f8e",
   "metadata": {},
   "outputs": [],
   "source": [
    "# Generate all chart types\n",
    "charts = {}\n",
    "# Summary-based charts\n",
    "charts['risk_return'] = viz.risk_return.make(df_summary)\n",
    "charts['sharpe_ladder'] = viz.sharpe_ladder.make(df_summary)\n",
    "charts['rolling_panel'] = viz.rolling_panel.make(df_summary)\n",
    "charts['surface'] = viz.surface.make(df_summary)\n",
    "\n",
    "# Create sample path data for path-based and heatmap charts\n",
    "df_paths = pd.DataFrame({\n",
    "    'step': [0, 1, 2],\n",
    "    'AgentA': [0.1, 0.2, 0.15],\n",
    "    'AgentB': [0.2, 0.1, 0.25],\n",
    "})\n",
    "charts['corr_heatmap'] = viz.corr_heatmap.make({'All': df_paths})\n",
    "charts['fan'] = viz.fan.make(df_paths)\n",
    "charts['path_dist'] = viz.path_dist.make(df_paths)\n",
    "\n",
    "# Display each figure\n",
    "for name, fig in charts.items():\n",
    "    print(f\"Displaying: {name}\")\n",
    "    fig.show()\n"
   ]
  },
  {
   "cell_type": "code",
   "execution_count": null,
   "id": "3",
   "metadata": {},
   "outputs": [],
   "source": [
    "viz.risk_return.make(df_summary)"
   ]
  }
 ],
 "metadata": {
  "language_info": {
   "name": "python"
  }
 },
 "nbformat": 4,
 "nbformat_minor": 5
}
