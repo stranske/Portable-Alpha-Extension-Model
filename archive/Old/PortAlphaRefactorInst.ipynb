{
 "cells": [
  {
   "cell_type": "markdown",
   "id": "72dfbf6d-5005-47f8-a445-09a8069bf1f4",
   "metadata": {},
   "source": [
    "1 — Kill the last inner loop: simulate_financing"
   ]
  },
  {
   "cell_type": "code",
   "execution_count": null,
   "id": "378c1c87-0fa9-4199-b519-0cd30d4ece4c",
   "metadata": {},
   "outputs": [],
   "source": [
    "def simulate_financing_vec(\n",
    "    T, n_scenarios,  # n_scenarios = how many “what-if” grids you’ll run\n",
    "    mean, sigma, spike_prob, spike_factor, rng=None\n",
    "):\n",
    "    \"\"\"\n",
    "    Vectorised jump-diffusion financing spreads.\n",
    "    Returns shape (n_scenarios, T)\n",
    "    \"\"\"\n",
    "    rng = np.random.default_rng() if rng is None else rng\n",
    "\n",
    "    base = rng.normal(mean, sigma, size=(n_scenarios, T))\n",
    "    jumps = rng.random((n_scenarios, T)) < spike_prob          # 0/1 mask\n",
    "    jump_size = jumps * (spike_factor * sigma)\n",
    "    out = np.clip(base + jump_size, 0.0, None)                 # no negatives\n",
    "    return out\n"
   ]
  },
  {
   "cell_type": "markdown",
   "id": "3b2bcea0-9ac2-4756-99b1-60084f1afd11",
   "metadata": {},
   "source": [
    "The old version looped 12 times per call – trivial for one path, but you call it three times for every grid node. This single call replaces them all. "
   ]
  },
  {
   "cell_type": "markdown",
   "id": "bff09de2-03e5-4247-8075-469545c03520",
   "metadata": {},
   "source": [
    "2 — Pre-compute the Monte-Carlo cube once"
   ]
  },
  {
   "cell_type": "code",
   "execution_count": null,
   "id": "e522e7ae-608a-4891-b254-d7a3fe9b3a38",
   "metadata": {},
   "outputs": [],
   "source": [
    "rng  = np.random.default_rng(seed)\n",
    "sim_draws = rng.standard_normal((N_SIMULATIONS, N_MONTHS, 4))  # idx, H, E, M\n",
    "L   = np.linalg.cholesky(cov_mat       / 12)  # annual → monthly\n",
    "mu  = np.array([mu_idx, mu_H, mu_E, mu_M]) / 12\n",
    "\n",
    "# Shape: (n_sim, n_months, 4)\n",
    "alpha_paths = sim_draws @ L.T + mu"
   ]
  },
  {
   "cell_type": "markdown",
   "id": "78764643-d883-41d6-8e09-3b77490e2964",
   "metadata": {},
   "source": [
    "That already existed in your snippet, but you rebuilt it inside the grid loops. Lift it out—every (ext_pct, act_pct) pair re-uses the same stochastic universe."
   ]
  },
  {
   "cell_type": "markdown",
   "id": "0f079352-b788-42e4-a4b5-a029a52f9460",
   "metadata": {},
   "source": [
    "3 — Vectorise the (ext %, act %) grid itself"
   ]
  },
  {
   "cell_type": "code",
   "execution_count": null,
   "id": "06040ff2-4159-4392-bde4-04bb84ee7e6d",
   "metadata": {},
   "outputs": [],
   "source": [
    "ext_step = ext_step_pct\n",
    "ext_grid = np.arange(0.0, max_external_combined + 1e-9, ext_step)\n",
    "\n",
    "# Build all legal pairs where 0 ≤ act_pct ≤ ext_pct\n",
    "ext_mesh, act_mesh = np.meshgrid(ext_grid, ext_grid)\n",
    "mask = act_mesh <= ext_mesh\n",
    "ext_vec = ext_mesh[mask]                     # 1-D of length G\n",
    "act_vec = act_mesh[mask]\n",
    "\n",
    "# Derived shares\n",
    "E_pct = ext_vec - act_vec                    # Ext-PA share\n",
    "A_pct = act_vec                              # Active-Ext share\n",
    "Z_pct = 1.0 - ext_vec                        # Internal share\n"
   ]
  },
  {
   "cell_type": "markdown",
   "id": "bb93e9db-4c27-4271-b053-aa8ff97c10ee",
   "metadata": {},
   "source": [
    "Now G = len(ext_vec) is your “scenario” dimension. We’ll broadcast everything over it.\n",
    "\n",
    "4 — Vectorised financing draws for all grid nodes\n",
    "python\n",
    "Copy\n"
   ]
  },
  {
   "cell_type": "code",
   "execution_count": null,
   "id": "f4c6c770-c456-41db-8afa-64f814e27491",
   "metadata": {},
   "outputs": [],
   "source": [
    "f_int   = simulate_financing_vec(N_MONTHS, G,\n",
    "                                 internal_financing_mean,\n",
    "                                 internal_financing_sigma,\n",
    "                                 internal_spike_prob,\n",
    "                                 internal_spike_factor,\n",
    "                                 rng)\n",
    "\n",
    "f_ext   = simulate_financing_vec(N_MONTHS, G,\n",
    "                                 ext_pa_financing_mean,\n",
    "                                 ext_pa_financing_sigma,\n",
    "                                 ext_pa_spike_prob,\n",
    "                                 ext_pa_spike_factor,\n",
    "                                 rng)\n",
    "\n",
    "f_act   = simulate_financing_vec(N_MONTHS, G,\n",
    "                                 act_ext_financing_mean,\n",
    "                                 act_ext_financing_sigma,\n",
    "                                 act_ext_spike_prob,\n",
    "                                 act_ext_spike_factor,\n",
    "                                 rng)\n"
   ]
  },
  {
   "cell_type": "markdown",
   "id": "fcc871fb-cd39-4083-970f-96163411aeef",
   "metadata": {},
   "source": [
    "Result: three arrays, each shape (G, T) instead of thousands of tiny 12-element vectors produced in nested loops.\n",
    "\n",
    "5 — Broadcast the capital weights into the Monte-Carlo cube"
   ]
  },
  {
   "cell_type": "code",
   "execution_count": null,
   "id": "78eb1149-bc4c-4aa1-b30b-94a8bd101164",
   "metadata": {},
   "outputs": [],
   "source": [
    "#  Capital in *millions*, shape (G, 3)\n",
    "caps_mm = np.column_stack([E_pct, A_pct, Z_pct]) * total_fund_capital\n",
    "\n",
    "# Expand to (G, n_sim, n_months, 3) for broadcasting\n",
    "caps4 = caps_mm[:, None, None, :]            # adds two singleton axes\n",
    "\n",
    "# Slice the alpha paths into the three sleeves.\n",
    "#   0 = index hedge, 1 = In-House H, 2 = Alpha-Ext E, 3 = External M\n",
    "#   (H and Z share the In-House path here, but you may treat Z as “cash” = 0.)\n",
    "H_path = alpha_paths[..., 1]                 # shape (n_sim, n_months)\n",
    "E_path = alpha_paths[..., 2]\n",
    "M_path = alpha_paths[..., 3]\n",
    "\n",
    "# Stack to align: shape (1, n_sim, n_months, 3)\n",
    "ret_stack = np.stack([E_path, M_path, H_path], axis=-1)[None, ...]\n",
    "\n",
    "# Gross $-returns before financing: (G, n_sim, n_months)\n",
    "gross_ret = (caps4 * ret_stack).sum(axis=-1) / total_fund_capital\n"
   ]
  },
  {
   "cell_type": "markdown",
   "id": "54f5d9b2-8320-4190-a18e-cf0fa999450b",
   "metadata": {},
   "source": [
    "6 — Net out financing in one line"
   ]
  },
  {
   "cell_type": "markdown",
   "id": "1be46a20-4d6c-4eac-9a83-109d3717039b",
   "metadata": {},
   "source": [
    "No loops, just pure broadcasting."
   ]
  },
  {
   "cell_type": "markdown",
   "id": "1e3e6433-cdf7-4754-9b16-dbbc18768a5b",
   "metadata": {},
   "source": [
    "7 — Aggregate statistics"
   ]
  },
  {
   "cell_type": "code",
   "execution_count": null,
   "id": "61a2ea74-51b3-457f-9c15-54f9cccf4d1a",
   "metadata": {},
   "outputs": [],
   "source": [
    "# mean & vol by scenario and simulation\n",
    "ann_mean = net_ret.mean(axis=-1) * 12\n",
    "ann_vol  = net_ret.std(axis=-1, ddof=1) * np.sqrt(12)\n",
    "\n",
    "# Collapse MC dimension → expect, VaR, whatever you need\n",
    "mean_of_mean = ann_mean.mean(axis=1)         # shape (G,)\n",
    "p05         = np.percentile(ann_mean, 5, axis=1)\n"
   ]
  },
  {
   "cell_type": "markdown",
   "id": "91a2e527-7fa4-4646-93ce-c940a87b17e6",
   "metadata": {},
   "source": [
    "The resulting vectors (G long) are what you used to build results = {\"Base\": …} earlier, but now they arrive with no explicit for loops anywhere."
   ]
  },
  {
   "cell_type": "code",
   "execution_count": null,
   "id": "88fe853f-a8be-445b-96cf-aad1f566cacd",
   "metadata": {},
   "outputs": [],
   "source": []
  }
 ],
 "metadata": {
  "kernelspec": {
   "display_name": "Python (base)",
   "language": "python",
   "name": "base"
  },
  "language_info": {
   "codemirror_mode": {
    "name": "ipython",
    "version": 3
   },
   "file_extension": ".py",
   "mimetype": "text/x-python",
   "name": "python",
   "nbconvert_exporter": "python",
   "pygments_lexer": "ipython3",
   "version": "3.12.2"
  }
 },
 "nbformat": 4,
 "nbformat_minor": 5
}
